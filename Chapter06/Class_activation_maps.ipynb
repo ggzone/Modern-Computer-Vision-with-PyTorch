{
 "cells": [
  {
   "cell_type": "markdown",
   "metadata": {
    "colab_type": "text",
    "id": "view-in-github"
   },
   "source": [
    "<a href=\"https://colab.research.google.com/github/PacktPublishing/Modern-Computer-Vision-with-PyTorch/blob/master/Chapter06/Class_activation_maps.ipynb\" target=\"_parent\"><img src=\"https://colab.research.google.com/assets/colab-badge.svg\" alt=\"Open In Colab\"/></a>"
   ]
  },
  {
   "cell_type": "code",
   "execution_count": 2,
   "metadata": {
    "colab": {
     "base_uri": "https://localhost:8080/"
    },
    "id": "EcD0LVW7Cv-Q",
    "outputId": "6e6d4a53-b537-4a11-e24e-2a4092002cce"
   },
   "outputs": [],
   "source": [
    "# import os\n",
    "# if not os.path.exists('cell_images'):\n",
    "#     !pip install -U -q torch_snippets\n",
    "#     !wget -q ftp://lhcftp.nlm.nih.gov/Open-Access-Datasets/Malaria/cell_images.zip\n",
    "#     !unzip -qq cell_images.zip\n",
    "#     !rm cell_images.zip\n",
    "# from torch_snippets import *"
   ]
  },
  {
   "cell_type": "code",
   "execution_count": 3,
   "metadata": {},
   "outputs": [],
   "source": [
    "from torch_snippets import *\n",
    "from torch_snippets.torch_loader import *\n",
    "\n",
    "import torch.optim as optim\n",
    "import torch\n",
    "from torchvision import transforms as T\n",
    "import torch.nn as nn\n",
    "import cv2"
   ]
  },
  {
   "cell_type": "code",
   "execution_count": 4,
   "metadata": {},
   "outputs": [],
   "source": [
    "# import kagglehub\n",
    "# import os\n",
    "\n",
    "# os.environ['KAGGLE_CONFIG_DIR']=r\"C:\\Users\\hunter\\Desktop\\kaggle.json\"\n",
    "# #os.environ['KAGGLE_USERNAME']=\"ggzone\"\n",
    "# #os.environ['KAGGLE_KEY']=\"14a4fd12896b638b1758c36dd58b3932\"\n",
    "\n",
    "\n",
    "# # Download latest version ,r\"D:\\open-source\\mcvp-packt\\Chapter06\"\n",
    "# path = kagglehub.dataset_download(\"iarunava/cell-images-for-detecting-malaria\")\n",
    "\n",
    "# print(\"Path to dataset files:\", path)"
   ]
  },
  {
   "cell_type": "code",
   "execution_count": 5,
   "metadata": {
    "id": "TET497lNC9aB"
   },
   "outputs": [],
   "source": [
    "id2int = {'Parasitized': 0, 'Uninfected': 1}"
   ]
  },
  {
   "cell_type": "code",
   "execution_count": 6,
   "metadata": {
    "id": "95HiKezLC-35"
   },
   "outputs": [],
   "source": [
    "trn_tfms = T.Compose([\n",
    "    T.ToPILImage(),\n",
    "    T.Resize(128),\n",
    "    T.CenterCrop(128),\n",
    "    T.ColorJitter(brightness=(0.95,1.05), \n",
    "                  contrast=(0.95,1.05), \n",
    "                  saturation=(0.95,1.05), \n",
    "                  hue=0.05),\n",
    "    T.RandomAffine(5, translate=(0.01,0.1)),\n",
    "    T.ToTensor(),\n",
    "    T.Normalize(mean=[0.5, 0.5, 0.5], \n",
    "                std=[0.5, 0.5, 0.5]),\n",
    "])"
   ]
  },
  {
   "cell_type": "code",
   "execution_count": 7,
   "metadata": {
    "id": "uAiAJrvVDDUi"
   },
   "outputs": [],
   "source": [
    "val_tfms = T.Compose([\n",
    "    T.ToPILImage(),\n",
    "    T.Resize(128),\n",
    "    T.CenterCrop(128),\n",
    "    T.ToTensor(),\n",
    "    T.Normalize(mean=[0.5, 0.5, 0.5], \n",
    "                std=[0.5, 0.5, 0.5]),\n",
    "])"
   ]
  },
  {
   "cell_type": "code",
   "execution_count": 8,
   "metadata": {
    "id": "q6Tb4mEUDFqe"
   },
   "outputs": [],
   "source": [
    "from torch.utils.data import Dataset,DataLoader\n",
    "class MalariaImages(Dataset):\n",
    "\n",
    "    def __init__(self, files, transform=None):\n",
    "        self.files = files\n",
    "        self.transform = transform\n",
    "        logger.info(len(self))\n",
    "\n",
    "    def __len__(self):\n",
    "        return len(self.files)\n",
    "\n",
    "    def __getitem__(self, ix):\n",
    "        fpath = self.files[ix]\n",
    "        #clss = fname(parent(fpath))\n",
    "        clss =fpath.parent.name\n",
    "        img = read(fpath, 1)\n",
    "        # print(f'{fpath},{parent(fpath)}')\n",
    "        return img, clss\n",
    "\n",
    "    def choose(self):\n",
    "        return self[randint(len(self))]\n",
    "\n",
    "    def collate_fn(self, batch):\n",
    "        _imgs, classes = list(zip(*batch))\n",
    "        if self.transform:\n",
    "            imgs = [self.transform(img)[None] for img in _imgs]\n",
    "        classes = [torch.tensor([id2int[clss]]) for clss in classes]\n",
    "        imgs, classes = [torch.cat(i).to(device) for i in [imgs, classes]]\n",
    "        return imgs, classes, _imgs"
   ]
  },
  {
   "cell_type": "code",
   "execution_count": 9,
   "metadata": {
    "colab": {
     "base_uri": "https://localhost:8080/"
    },
    "id": "6bAg-wQFDIxB",
    "outputId": "dbe59da6-b247-4401-8f83-634556ca1177"
   },
   "outputs": [
    {
     "data": {
      "text/html": [
       "<pre style=\"white-space:pre;overflow-x:auto;line-height:normal;font-family:Menlo,'DejaVu Sans Mono',consolas,'Courier New',monospace\"><span style=\"color: #7fbfbf; text-decoration-color: #7fbfbf\">[12/07/24 15:01:18] </span><span style=\"color: #bfbf7f; text-decoration-color: #bfbf7f\">INFO    </span> <span style=\"color: #008080; text-decoration-color: #008080; font-weight: bold\">1000</span>                                                                                                                    <a href=\"file://C:\\Users\\hunter\\AppData\\Local\\Temp\\ipykernel_29456\\400510360.py:7\" target=\"_blank\"><span style=\"color: #7f7f7f; text-decoration-color: #7f7f7f\">400510360.py</span></a><span style=\"color: #7f7f7f; text-decoration-color: #7f7f7f\">:</span><a href=\"file://C:\\Users\\hunter\\AppData\\Local\\Temp\\ipykernel_29456\\400510360.py:7#__init__:7\" target=\"_blank\"><span style=\"color: #7f7f7f; text-decoration-color: #7f7f7f\">__init__:7</span></a>\n",
       "</pre>\n"
      ],
      "text/plain": [
       "\u001b[2;36m[12/07/24 15:01:18]\u001b[0m\u001b[2;36m \u001b[0m\u001b[2;33mINFO    \u001b[0m \u001b[1;36m1000\u001b[0m                                                                                                                    \u001b]8;id=726194;file://C:\\Users\\hunter\\AppData\\Local\\Temp\\ipykernel_29456\\400510360.py:7\u001b\\\u001b[2m400510360.py\u001b[0m\u001b]8;;\u001b\\\u001b[2m:\u001b[0m\u001b]8;id=409035;file://C:\\Users\\hunter\\AppData\\Local\\Temp\\ipykernel_29456\\400510360.py:7#__init__:7\u001b\\\u001b[2m__init__:7\u001b[0m\u001b]8;;\u001b\\\n"
      ]
     },
     "metadata": {},
     "output_type": "display_data"
    },
    {
     "data": {
      "text/html": [
       "<pre style=\"white-space:pre;overflow-x:auto;line-height:normal;font-family:Menlo,'DejaVu Sans Mono',consolas,'Courier New',monospace\"><span style=\"color: #7fbfbf; text-decoration-color: #7fbfbf\">                    </span><span style=\"color: #bfbf7f; text-decoration-color: #bfbf7f\">INFO    </span> <span style=\"color: #008080; text-decoration-color: #008080; font-weight: bold\">1000</span>                                                                                                                    <a href=\"file://C:\\Users\\hunter\\AppData\\Local\\Temp\\ipykernel_29456\\400510360.py:7\" target=\"_blank\"><span style=\"color: #7f7f7f; text-decoration-color: #7f7f7f\">400510360.py</span></a><span style=\"color: #7f7f7f; text-decoration-color: #7f7f7f\">:</span><a href=\"file://C:\\Users\\hunter\\AppData\\Local\\Temp\\ipykernel_29456\\400510360.py:7#__init__:7\" target=\"_blank\"><span style=\"color: #7f7f7f; text-decoration-color: #7f7f7f\">__init__:7</span></a>\n",
       "</pre>\n"
      ],
      "text/plain": [
       "\u001b[2;36m                   \u001b[0m\u001b[2;36m \u001b[0m\u001b[2;33mINFO    \u001b[0m \u001b[1;36m1000\u001b[0m                                                                                                                    \u001b]8;id=448267;file://C:\\Users\\hunter\\AppData\\Local\\Temp\\ipykernel_29456\\400510360.py:7\u001b\\\u001b[2m400510360.py\u001b[0m\u001b]8;;\u001b\\\u001b[2m:\u001b[0m\u001b]8;id=93851;file://C:\\Users\\hunter\\AppData\\Local\\Temp\\ipykernel_29456\\400510360.py:7#__init__:7\u001b\\\u001b[2m__init__:7\u001b[0m\u001b]8;;\u001b\\\n"
      ]
     },
     "metadata": {},
     "output_type": "display_data"
    }
   ],
   "source": [
    "\n",
    "device = 'cuda' if torch.cuda.is_available() else 'cpu'\n",
    "all_files = Glob('cell_images/*/*.png')\n",
    "np.random.seed(10)\n",
    "np.random.shuffle(all_files)\n",
    "\n",
    "from sklearn.model_selection import train_test_split\n",
    "trn_files, val_files = train_test_split(all_files, random_state=1)\n",
    "\n",
    "trn_ds = MalariaImages(trn_files[:1000], transform=trn_tfms)\n",
    "val_ds = MalariaImages(val_files[:1000], transform=val_tfms)\n",
    "trn_dl = DataLoader(trn_ds, 32, shuffle=True, collate_fn=trn_ds.collate_fn)\n",
    "val_dl = DataLoader(val_ds, 32, shuffle=False, collate_fn=val_ds.collate_fn)"
   ]
  },
  {
   "cell_type": "code",
   "execution_count": 10,
   "metadata": {},
   "outputs": [],
   "source": [
    "# ti=T.ToPILImage()\n",
    "# ti(val_ds[0][0]).show()"
   ]
  },
  {
   "cell_type": "code",
   "execution_count": 11,
   "metadata": {
    "id": "bBRL50KgDKhR"
   },
   "outputs": [],
   "source": [
    "\n",
    "\n",
    "def convBlock(ni, no):\n",
    "    return nn.Sequential(\n",
    "        nn.Dropout(0.2),\n",
    "        nn.Conv2d(ni, no, kernel_size=3, padding=1),\n",
    "        nn.ReLU(inplace=True),\n",
    "        nn.BatchNorm2d(no),\n",
    "        nn.MaxPool2d(2),\n",
    "    )\n",
    "    \n",
    "class MalariaClassifier(nn.Module):\n",
    "    def __init__(self):\n",
    "        super().__init__()\n",
    "        self.model = nn.Sequential(\n",
    "            convBlock(3, 64),\n",
    "            convBlock(64, 64),\n",
    "            convBlock(64, 128),\n",
    "            convBlock(128, 256),\n",
    "            convBlock(256, 512),\n",
    "            convBlock(512, 64),\n",
    "            nn.Flatten(),\n",
    "            nn.Linear(256, 256),\n",
    "            nn.Dropout(0.2),\n",
    "            nn.ReLU(inplace=True),\n",
    "            nn.Linear(256, len(id2int))\n",
    "        )\n",
    "        self.loss_fn = nn.CrossEntropyLoss()\n",
    "\n",
    "    def forward(self, x):\n",
    "        return self.model(x)\n",
    "\n",
    "    def compute_metrics(self, preds, targets):\n",
    "        loss = self.loss_fn(preds, targets)\n",
    "        acc = (torch.max(preds, 1)[1] == targets).float().mean()\n",
    "        return loss, acc"
   ]
  },
  {
   "cell_type": "code",
   "execution_count": 12,
   "metadata": {
    "id": "bz89BsqpDNME"
   },
   "outputs": [],
   "source": [
    "def train_batch(model, data, optimizer, criterion):\n",
    "    model.train()\n",
    "    ims, labels, _ = data\n",
    "    _preds = model(ims)\n",
    "    optimizer.zero_grad()\n",
    "    loss, acc = criterion(_preds, labels)\n",
    "    loss.backward()\n",
    "    optimizer.step()\n",
    "    return loss.item(), acc.item()\n",
    "\n",
    "@torch.no_grad()\n",
    "def validate_batch(model, data, criterion):\n",
    "    model.eval()\n",
    "    ims, labels, _ = data\n",
    "    _preds = model(ims)\n",
    "    loss, acc = criterion(_preds, labels)\n",
    "    return loss.item(), acc.item()"
   ]
  },
  {
   "cell_type": "code",
   "execution_count": 13,
   "metadata": {
    "colab": {
     "base_uri": "https://localhost:8080/"
    },
    "id": "MVLjWkmbDQDd",
    "outputId": "720b9541-e04b-44eb-b6db-553baf26172d"
   },
   "outputs": [
    {
     "name": "stdout",
     "output_type": "stream",
     "text": [
      "EPOCH: 1.000  trn_acc: 0.605  trn_loss: 0.680  val_acc: 0.670  val_loss: 0.624  (65.69s - 65.69s remaining)\n",
      "EPOCH: 2.000  trn_acc: 0.776  trn_loss: 0.470  val_acc: 0.929  val_loss: 0.297  (110.00s - 0.00s remaining)\n"
     ]
    }
   ],
   "source": [
    "model = MalariaClassifier().to(device)\n",
    "criterion = model.compute_metrics\n",
    "optimizer = optim.Adam(model.parameters(), lr=1e-3)\n",
    "n_epochs = 2\n",
    "\n",
    "log = Report(n_epochs)\n",
    "for ex in range(n_epochs):\n",
    "    N = len(trn_dl)\n",
    "    for bx,data in enumerate(trn_dl):\n",
    "        loss, acc = train_batch(model, data, optimizer, criterion)\n",
    "        log.record(ex+(bx+1)/N, trn_loss=loss, trn_acc=acc, end='\\r')\n",
    "\n",
    "    N = len(val_dl)\n",
    "    for bx, data in enumerate(val_dl):\n",
    "        loss, acc = validate_batch(model, data, criterion)\n",
    "        log.record(ex+(bx+1)/N, val_loss=loss, val_acc=acc, end='\\r')\n",
    "        \n",
    "    log.report_avgs(ex+1)"
   ]
  },
  {
   "cell_type": "code",
   "execution_count": 14,
   "metadata": {
    "id": "T5AnYfz0DSGG"
   },
   "outputs": [],
   "source": [
    "im2fmap = nn.Sequential(*(list(model.model[:5].children()) + list(model.model[5][:2].children())))"
   ]
  },
  {
   "cell_type": "code",
   "execution_count": 35,
   "metadata": {},
   "outputs": [
    {
     "data": {
      "text/plain": [
       "Sequential(\n",
       "  (0): Sequential(\n",
       "    (0): Dropout(p=0.2, inplace=False)\n",
       "    (1): Conv2d(3, 64, kernel_size=(3, 3), stride=(1, 1), padding=(1, 1))\n",
       "    (2): ReLU(inplace=True)\n",
       "    (3): BatchNorm2d(64, eps=1e-05, momentum=0.1, affine=True, track_running_stats=True)\n",
       "    (4): MaxPool2d(kernel_size=2, stride=2, padding=0, dilation=1, ceil_mode=False)\n",
       "  )\n",
       "  (1): Sequential(\n",
       "    (0): Dropout(p=0.2, inplace=False)\n",
       "    (1): Conv2d(64, 64, kernel_size=(3, 3), stride=(1, 1), padding=(1, 1))\n",
       "    (2): ReLU(inplace=True)\n",
       "    (3): BatchNorm2d(64, eps=1e-05, momentum=0.1, affine=True, track_running_stats=True)\n",
       "    (4): MaxPool2d(kernel_size=2, stride=2, padding=0, dilation=1, ceil_mode=False)\n",
       "  )\n",
       "  (2): Sequential(\n",
       "    (0): Dropout(p=0.2, inplace=False)\n",
       "    (1): Conv2d(64, 128, kernel_size=(3, 3), stride=(1, 1), padding=(1, 1))\n",
       "    (2): ReLU(inplace=True)\n",
       "    (3): BatchNorm2d(128, eps=1e-05, momentum=0.1, affine=True, track_running_stats=True)\n",
       "    (4): MaxPool2d(kernel_size=2, stride=2, padding=0, dilation=1, ceil_mode=False)\n",
       "  )\n",
       "  (3): Sequential(\n",
       "    (0): Dropout(p=0.2, inplace=False)\n",
       "    (1): Conv2d(128, 256, kernel_size=(3, 3), stride=(1, 1), padding=(1, 1))\n",
       "    (2): ReLU(inplace=True)\n",
       "    (3): BatchNorm2d(256, eps=1e-05, momentum=0.1, affine=True, track_running_stats=True)\n",
       "    (4): MaxPool2d(kernel_size=2, stride=2, padding=0, dilation=1, ceil_mode=False)\n",
       "  )\n",
       "  (4): Sequential(\n",
       "    (0): Dropout(p=0.2, inplace=False)\n",
       "    (1): Conv2d(256, 512, kernel_size=(3, 3), stride=(1, 1), padding=(1, 1))\n",
       "    (2): ReLU(inplace=True)\n",
       "    (3): BatchNorm2d(512, eps=1e-05, momentum=0.1, affine=True, track_running_stats=True)\n",
       "    (4): MaxPool2d(kernel_size=2, stride=2, padding=0, dilation=1, ceil_mode=False)\n",
       "  )\n",
       "  (5): Dropout(p=0.2, inplace=False)\n",
       "  (6): Conv2d(512, 64, kernel_size=(3, 3), stride=(1, 1), padding=(1, 1))\n",
       ")"
      ]
     },
     "execution_count": 35,
     "metadata": {},
     "output_type": "execute_result"
    }
   ],
   "source": [
    "im2fmap"
   ]
  },
  {
   "cell_type": "code",
   "execution_count": 55,
   "metadata": {
    "id": "TJ6jGljaDYZZ"
   },
   "outputs": [],
   "source": [
    "def im2gradCAM(x):\n",
    "    model.eval()\n",
    "    logits = model(x)\n",
    "    print(logits.shape)\n",
    "    print(logits)\n",
    "    heatmaps = []\n",
    "    activations = im2fmap(x)\n",
    "    print(activations.shape)\n",
    "    pred = logits.max(-1)[-1]\n",
    "    print(logits.max(-1))\n",
    "    print(pred)\n",
    "    # get the model's prediction\n",
    "    model.zero_grad()\n",
    "    # compute gradients with respect to model's most confident logit\n",
    "    logits[0,pred].backward(retain_graph=True)\n",
    "    # get the gradients at the required featuremap location\n",
    "    # and take the avg gradient for every featuremap\n",
    "    pooled_grads = model.model[-6][1].weight.grad.data.mean((1,2,3))\n",
    "    # multiply each activation map with corresponding gradient average\n",
    "    for i in range(activations.shape[1]):\n",
    "        activations[:,i,:,:] *= pooled_grads[i]\n",
    "    # take the mean of all weighted activation maps\n",
    "    # (that has been weighted by avg. grad at each fmap)\n",
    "    heatmap = torch.mean(activations, dim=1)[0].cpu().detach()\n",
    "    return heatmap, 'Uninfected' if pred.item() else 'Parasitized'"
   ]
  },
  {
   "cell_type": "code",
   "execution_count": 99,
   "metadata": {},
   "outputs": [
    {
     "name": "stdout",
     "output_type": "stream",
     "text": [
      "Conv2d(512, 64, kernel_size=(3, 3), stride=(1, 1), padding=(1, 1))\n",
      "Conv2d(256, 512, kernel_size=(3, 3), stride=(1, 1), padding=(1, 1))\n",
      "torch.Size([64, 512, 3, 3])\n",
      "torch.Size([64, 3, 3])\n",
      "torch.Size([64, 512, 3])\n",
      "torch.Size([64, 512, 3])\n",
      "torch.Size([64])\n"
     ]
    }
   ],
   "source": [
    "print(model.model[-6][1])\n",
    "print(model.model[-7][1])\n",
    "print(model.model[-6][1].weight.grad.data.shape)\n",
    "print(model.model[-6][1].weight.grad.data.mean((1)).shape)\n",
    "print(model.model[-6][1].weight.grad.data.mean((2)).shape)\n",
    "print(model.model[-6][1].weight.grad.data.mean((3)).shape)\n",
    "print(model.model[-6][1].weight.grad.data.mean((1,2,3)).shape)"
   ]
  },
  {
   "cell_type": "code",
   "execution_count": 16,
   "metadata": {
    "id": "tYWbEFI0Daib"
   },
   "outputs": [],
   "source": [
    "SZ = 128\n",
    "def upsampleHeatmap(map, img):\n",
    "    m,M = map.min(), map.max()\n",
    "    map = 255 * ((map-m) / (M-m))\n",
    "    map = np.uint8(map)\n",
    "    map = cv2.resize(map, (SZ,SZ))\n",
    "    map = cv2.applyColorMap(255-map, cv2.COLORMAP_JET)\n",
    "    map = np.uint8(map)\n",
    "    map = np.uint8(map*0.7 + img*0.3)\n",
    "    return map"
   ]
  },
  {
   "cell_type": "code",
   "execution_count": 57,
   "metadata": {
    "colab": {
     "base_uri": "https://localhost:8080/",
     "height": 1000
    },
    "id": "O2e4ULWHDcZR",
    "outputId": "91381c03-ddcd-4310-eac3-f0fb9d52f484"
   },
   "outputs": [
    {
     "name": "stdout",
     "output_type": "stream",
     "text": [
      "torch.Size([1, 2])\n",
      "tensor([[ 0.5247, -0.2488]], grad_fn=<AddmmBackward0>)\n",
      "torch.Size([1, 64, 4, 4])\n",
      "torch.return_types.max(\n",
      "values=tensor([0.5247], grad_fn=<MaxBackward0>),\n",
      "indices=tensor([0]))\n",
      "tensor([0])\n"
     ]
    },
    {
     "data": {
      "image/png": "[encoded data removed]",
      "text/plain": [
       "<Figure size 500x300 with 2 Axes>"
      ]
     },
     "metadata": {},
     "output_type": "display_data"
    }
   ],
   "source": [
    "N = 1\n",
    "_val_dl = DataLoader(val_ds, batch_size=N, shuffle=True, collate_fn=val_ds.collate_fn)\n",
    "x,y,z = next(iter(_val_dl))\n",
    "\n",
    "for i in range(N):\n",
    "    image = resize(z[i], SZ)\n",
    "    heatmap, pred = im2gradCAM(x[i:i+1])\n",
    "    if(pred=='Uninfected'):\n",
    "        continue\n",
    "    heatmap = upsampleHeatmap(heatmap, image)\n",
    "    subplots([image, heatmap], nc=2, figsize=(5,3), suptitle=pred)"
   ]
  },
  {
   "cell_type": "code",
   "execution_count": 45,
   "metadata": {
    "id": "_pKVevITDeNH"
   },
   "outputs": [
    {
     "data": {
      "text/plain": [
       "MalariaClassifier(\n",
       "  (model): Sequential(\n",
       "    (0): Sequential(\n",
       "      (0): Dropout(p=0.2, inplace=False)\n",
       "      (1): Conv2d(3, 64, kernel_size=(3, 3), stride=(1, 1), padding=(1, 1))\n",
       "      (2): ReLU(inplace=True)\n",
       "      (3): BatchNorm2d(64, eps=1e-05, momentum=0.1, affine=True, track_running_stats=True)\n",
       "      (4): MaxPool2d(kernel_size=2, stride=2, padding=0, dilation=1, ceil_mode=False)\n",
       "    )\n",
       "    (1): Sequential(\n",
       "      (0): Dropout(p=0.2, inplace=False)\n",
       "      (1): Conv2d(64, 64, kernel_size=(3, 3), stride=(1, 1), padding=(1, 1))\n",
       "      (2): ReLU(inplace=True)\n",
       "      (3): BatchNorm2d(64, eps=1e-05, momentum=0.1, affine=True, track_running_stats=True)\n",
       "      (4): MaxPool2d(kernel_size=2, stride=2, padding=0, dilation=1, ceil_mode=False)\n",
       "    )\n",
       "    (2): Sequential(\n",
       "      (0): Dropout(p=0.2, inplace=False)\n",
       "      (1): Conv2d(64, 128, kernel_size=(3, 3), stride=(1, 1), padding=(1, 1))\n",
       "      (2): ReLU(inplace=True)\n",
       "      (3): BatchNorm2d(128, eps=1e-05, momentum=0.1, affine=True, track_running_stats=True)\n",
       "      (4): MaxPool2d(kernel_size=2, stride=2, padding=0, dilation=1, ceil_mode=False)\n",
       "    )\n",
       "    (3): Sequential(\n",
       "      (0): Dropout(p=0.2, inplace=False)\n",
       "      (1): Conv2d(128, 256, kernel_size=(3, 3), stride=(1, 1), padding=(1, 1))\n",
       "      (2): ReLU(inplace=True)\n",
       "      (3): BatchNorm2d(256, eps=1e-05, momentum=0.1, affine=True, track_running_stats=True)\n",
       "      (4): MaxPool2d(kernel_size=2, stride=2, padding=0, dilation=1, ceil_mode=False)\n",
       "    )\n",
       "    (4): Sequential(\n",
       "      (0): Dropout(p=0.2, inplace=False)\n",
       "      (1): Conv2d(256, 512, kernel_size=(3, 3), stride=(1, 1), padding=(1, 1))\n",
       "      (2): ReLU(inplace=True)\n",
       "      (3): BatchNorm2d(512, eps=1e-05, momentum=0.1, affine=True, track_running_stats=True)\n",
       "      (4): MaxPool2d(kernel_size=2, stride=2, padding=0, dilation=1, ceil_mode=False)\n",
       "    )\n",
       "    (5): Sequential(\n",
       "      (0): Dropout(p=0.2, inplace=False)\n",
       "      (1): Conv2d(512, 64, kernel_size=(3, 3), stride=(1, 1), padding=(1, 1))\n",
       "      (2): ReLU(inplace=True)\n",
       "      (3): BatchNorm2d(64, eps=1e-05, momentum=0.1, affine=True, track_running_stats=True)\n",
       "      (4): MaxPool2d(kernel_size=2, stride=2, padding=0, dilation=1, ceil_mode=False)\n",
       "    )\n",
       "    (6): Flatten(start_dim=1, end_dim=-1)\n",
       "    (7): Linear(in_features=256, out_features=256, bias=True)\n",
       "    (8): Dropout(p=0.2, inplace=False)\n",
       "    (9): ReLU(inplace=True)\n",
       "    (10): Linear(in_features=256, out_features=2, bias=True)\n",
       "  )\n",
       "  (loss_fn): CrossEntropyLoss()\n",
       ")"
      ]
     },
     "execution_count": 45,
     "metadata": {},
     "output_type": "execute_result"
    }
   ],
   "source": [
    "model"
   ]
  },
  {
   "cell_type": "code",
   "execution_count": 53,
   "metadata": {},
   "outputs": [
    {
     "name": "stdout",
     "output_type": "stream",
     "text": [
      "----------------------------------------------------------------\n",
      "        Layer (type)               Output Shape         Param #\n",
      "================================================================\n",
      "           Dropout-1          [-1, 3, 128, 128]               0\n",
      "            Conv2d-2         [-1, 64, 128, 128]           1,792\n",
      "              ReLU-3         [-1, 64, 128, 128]               0\n",
      "       BatchNorm2d-4         [-1, 64, 128, 128]             128\n",
      "         MaxPool2d-5           [-1, 64, 64, 64]               0\n",
      "           Dropout-6           [-1, 64, 64, 64]               0\n",
      "            Conv2d-7           [-1, 64, 64, 64]          36,928\n",
      "              ReLU-8           [-1, 64, 64, 64]               0\n",
      "       BatchNorm2d-9           [-1, 64, 64, 64]             128\n",
      "        MaxPool2d-10           [-1, 64, 32, 32]               0\n",
      "          Dropout-11           [-1, 64, 32, 32]               0\n",
      "           Conv2d-12          [-1, 128, 32, 32]          73,856\n",
      "             ReLU-13          [-1, 128, 32, 32]               0\n",
      "      BatchNorm2d-14          [-1, 128, 32, 32]             256\n",
      "        MaxPool2d-15          [-1, 128, 16, 16]               0\n",
      "          Dropout-16          [-1, 128, 16, 16]               0\n",
      "           Conv2d-17          [-1, 256, 16, 16]         295,168\n",
      "             ReLU-18          [-1, 256, 16, 16]               0\n",
      "      BatchNorm2d-19          [-1, 256, 16, 16]             512\n",
      "        MaxPool2d-20            [-1, 256, 8, 8]               0\n",
      "          Dropout-21            [-1, 256, 8, 8]               0\n",
      "           Conv2d-22            [-1, 512, 8, 8]       1,180,160\n",
      "             ReLU-23            [-1, 512, 8, 8]               0\n",
      "      BatchNorm2d-24            [-1, 512, 8, 8]           1,024\n",
      "        MaxPool2d-25            [-1, 512, 4, 4]               0\n",
      "          Dropout-26            [-1, 512, 4, 4]               0\n",
      "           Conv2d-27             [-1, 64, 4, 4]         294,976\n",
      "             ReLU-28             [-1, 64, 4, 4]               0\n",
      "      BatchNorm2d-29             [-1, 64, 4, 4]             128\n",
      "        MaxPool2d-30             [-1, 64, 2, 2]               0\n",
      "          Flatten-31                  [-1, 256]               0\n",
      "           Linear-32                  [-1, 256]          65,792\n",
      "          Dropout-33                  [-1, 256]               0\n",
      "             ReLU-34                  [-1, 256]               0\n",
      "           Linear-35                    [-1, 2]             514\n",
      "================================================================\n",
      "Total params: 1,951,362\n",
      "Trainable params: 1,951,362\n",
      "Non-trainable params: 0\n",
      "----------------------------------------------------------------\n",
      "Input size (MB): 0.19\n",
      "Forward/backward pass size (MB): 41.53\n",
      "Params size (MB): 7.44\n",
      "Estimated Total Size (MB): 49.16\n",
      "----------------------------------------------------------------\n"
     ]
    }
   ],
   "source": [
    "from torchsummary import summary\n",
    "summary(model, input_size=(3, 128, 128))"
   ]
  },
  {
   "cell_type": "code",
   "execution_count": 49,
   "metadata": {},
   "outputs": [
    {
     "data": {
      "text/plain": [
       "torch.Size([3, 128, 128])"
      ]
     },
     "execution_count": 49,
     "metadata": {},
     "output_type": "execute_result"
    }
   ],
   "source": [
    "x,y,z = next(iter(_val_dl))\n",
    "x[0].shape"
   ]
  },
  {
   "cell_type": "code",
   "execution_count": null,
   "metadata": {},
   "outputs": [],
   "source": []
  }
 ],
 "metadata": {
  "accelerator": "GPU",
  "colab": {
   "include_colab_link": true,
   "name": "Class_activation_maps.ipynb",
   "provenance": []
  },
  "kernelspec": {
   "display_name": "Python [conda env:base] *",
   "language": "python",
   "name": "conda-base-py"
  },
  "language_info": {
   "codemirror_mode": {
    "name": "ipython",
    "version": 3
   },
   "file_extension": ".py",
   "mimetype": "text/x-python",
   "name": "python",
   "nbconvert_exporter": "python",
   "pygments_lexer": "ipython3",
   "version": "3.12.3"
  }
 },
 "nbformat": 4,
 "nbformat_minor": 4
}
